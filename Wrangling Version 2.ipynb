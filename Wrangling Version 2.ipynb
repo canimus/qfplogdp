{
 "cells": [
  {
   "cell_type": "markdown",
   "metadata": {},
   "source": [
    "# Qualibrate - Log Analysis\n",
    "\n",
    "This notebook presents the required parsing and analysis code to build up a dashboard where clients can interactively monitor the stream of events happening across structured and unstructured data stored in the various Qualibrate persistent stores."
   ]
  },
  {
   "cell_type": "markdown",
   "metadata": {},
   "source": [
    "### Libraries\n",
    "\n",
    "This notebook uses primarily the concept of Data Frames to operate with fast queries located in memory. For the volume of data currently managed in the Qualibrate sessions the memory footprint for analysis __200k__ lines of log data is around __16MB MEM__"
   ]
  },
  {
   "cell_type": "code",
   "execution_count": 10,
   "metadata": {
    "collapsed": false
   },
   "outputs": [],
   "source": [
    "%matplotlib inline\n",
    "import matplotlib       # Plotting\n",
    "import numpy as np      # Math Computations\n",
    "import pandas as pd     # Data Frame Operations\n",
    "import re               # Regular Expressions\n",
    "import io               # Strings and streams\n",
    "import matplotlib.pylab as plt # Plotting\n",
    "import seaborn as sns          # Nice Plotting\n",
    "import collections             # Dynamic Data Structures (namedtuples)\n",
    "\n",
    "import ipywidgets as widgets           # Interactivity\n",
    "from IPython.display import display    # Rendering Widgets\n",
    "from IPython.display import HTML       # Formated Tables\n",
    "\n",
    "# import plotly.plotly as py             # Rendering nice tabless\n",
    "# from plotly.tools import FigureFactory as FF  # Figures Rendering"
   ]
  },
  {
   "cell_type": "markdown",
   "metadata": {},
   "source": [
    "### Consolidating Logs\n",
    "\n",
    "The following routine executes at an operation system level, and brings a simplistic written schema that allows the formulation of the __schema on read__ paradigm within this notebook. The consolidation routine expects a format with `<tab>` separator and 3 elements: \n",
    "<pre>\n",
    "Datetime : 2016-10-17 07:06:18.991\n",
    "Status   : INFO\n",
    "Message  : [qualibrate] (default task-6) Registering session for user id 9\n",
    "</pre>\n",
    "\n",
    "#### Aggregation\n",
    "\n",
    "The aggregation happens through the following routine\n",
    "```shell\n",
    "cat server.log* | \\\n",
    "    grep -e \"^2016\" | \\\n",
    "    tr -d \"\\t\" | \\\n",
    "    sed -e \"s:\\\n",
    "        ^\\([0-9]\\{4\\}-[0-9]\\{2\\}-[0-9]\\{2\\}\\)[[:space:]]*\\\n",
    "        \\([0-9]\\{2\\}\\:[0-9]\\{2\\}\\:[0-9]\\{2\\}\\),\\\n",
    "        \\([0-9]\\{3\\}\\)[[:space:]]*\\\n",
    "        \\([[:alpha:]]*\\)[[:space:]]*\\\n",
    "        \\([   ]*\\)\\(.*\\)$\\\n",
    "        :\\1 \\2.\\3    \\4      \\6:\" > cc.csv\n",
    "```"
   ]
  },
  {
   "cell_type": "markdown",
   "metadata": {},
   "source": [
    "### Reading Logs\n",
    "\n",
    "The following location searches for the log name pattern and scans across the directory for the content of all the files. It will dimiss exception stack traces but it will capture the header of the line for analysis. For specific stack trace or deep log analysis, other tools or mechanisms are advised."
   ]
  },
  {
   "cell_type": "code",
   "execution_count": 11,
   "metadata": {
    "collapsed": false
   },
   "outputs": [],
   "source": [
    "# Expecting CSV with 3 tokens\n",
    "# DATE <tab> STATUS <tab> MESSAGE\n",
    "def extract_schema(message):\n",
    "    return [x.strip() for x in line.split(\"\\t\") if x != None]"
   ]
  },
  {
   "cell_type": "code",
   "execution_count": 12,
   "metadata": {
    "collapsed": false
   },
   "outputs": [],
   "source": [
    "log_folder = widgets.Text(\n",
    "    value='',\n",
    "    placeholder='/tmp/logs',\n",
    "    description='Location:',\n",
    "    disabled=False\n",
    ")\n",
    "file_prefix = widgets.Text(\n",
    "    value='',\n",
    "    placeholder='server.log',\n",
    "    description='Prefix:',\n",
    "    disabled=False\n",
    ")\n",
    "display(log_folder)\n",
    "display(file_prefix)\n",
    "\n",
    "def handle_submit(sender):\n",
    "    print(sender.value)\n",
    "\n",
    "log_folder.on_submit(handle_submit)\n",
    "file_prefix.on_submit(handle_submit)"
   ]
  },
  {
   "cell_type": "code",
   "execution_count": 13,
   "metadata": {
    "collapsed": false
   },
   "outputs": [],
   "source": [
    "counters = []\n",
    "with open(\"/Users/herminio/Downloads/qualibrate/heineken/log/c1.csv\") as file:\n",
    "    for line in file.readlines():        \n",
    "        counters.append(extract_schema(line.strip()))"
   ]
  },
  {
   "cell_type": "code",
   "execution_count": 14,
   "metadata": {
    "collapsed": false
   },
   "outputs": [],
   "source": [
    "df = pd.DataFrame(counters, columns=['created_at', 'status', 'message']) # Transformation to matrix\n",
    "df.created_at = pd.to_datetime(df.created_at)          # Casting index\n",
    "#df.created_at = df.created_at.apply(lambda x: x.value) # Time expressed in NanoSeconds (Unix Epoch)\n",
    "df.set_index('created_at', inplace=True)               # Index by time (timeseries)"
   ]
  },
  {
   "cell_type": "code",
   "execution_count": 15,
   "metadata": {
    "collapsed": false
   },
   "outputs": [],
   "source": [
    "# Data Structure of the Message\n",
    "Register = collections.namedtuple('Register', 'source task ipaddress username endpoint method description')\n",
    "\n",
    "# Register initialisation for all fields\n",
    "Register.__new__.__defaults__ = (None,) * len(Register._fields)"
   ]
  },
  {
   "cell_type": "code",
   "execution_count": 16,
   "metadata": {
    "collapsed": false
   },
   "outputs": [],
   "source": [
    "# Expressions\n",
    "expr_bracket      = \"\\[([\\$/\\w\\d\\s\\.-]*)\\]\"\n",
    "expr_parenthesis  = \"\\(([/\\w\\d\\s\\.-]*)\\)\"\n",
    "expr_remainder    = \"(.*)$\"\n",
    "\n",
    "def infer_message_structure(message):\n",
    "    \"\"\" \n",
    "    Determine the number of expressions required\n",
    "    in the message structure received from log files\n",
    "    \"\"\" \n",
    "    postfix = \"\"\n",
    "    \n",
    "    position = message.find(\")\")\n",
    "    remainder = message[position+1:].strip()\n",
    "    sibling = remainder[0:10].strip()\n",
    "\n",
    "    number_of_brackets = sibling.count(\"[\")\n",
    "    # There is square bracket modules with no space\n",
    "    if number_of_brackets > 0:        \n",
    "        tokens = remainder.split(\" \")\n",
    "        number_of_attributes = tokens[0].split(\"(\")[0].count(\"[\")\n",
    "        postfix = \"\\s\" + (number_of_attributes * expr_bracket)\n",
    "        \n",
    "    return postfix\n",
    "\n",
    "def explode_message(message):\n",
    "    \"\"\" \n",
    "    Construct a pandas.Series result of the matching\n",
    "    each group in the message body based on expressions\n",
    "    \"\"\" \n",
    "    if message.count(\"[\") > 0:\n",
    "        prefix = expr_bracket + \"\\s\" + expr_parenthesis\n",
    "        postfix = infer_message_structure(message)        \n",
    "        extractor = prefix + postfix + expr_remainder # Builgind message pattern        \n",
    "        try:            \n",
    "            groups = [i for i in list(re.match(extractor, message).groups()) if i != \"\"]\n",
    "            padding = len(list(Register._fields)) - len(groups)\n",
    "            filled = groups[:len(groups)-1] + ([None]*padding) + [x.strip() for x in groups[-1:]]            \n",
    "        except AttributeError:\n",
    "            raise(\"Unable to recognize message pattern\")\n",
    "        finally:\n",
    "            return pd.Series(Register(*filled)._asdict())"
   ]
  },
  {
   "cell_type": "code",
   "execution_count": 17,
   "metadata": {
    "collapsed": false
   },
   "outputs": [],
   "source": [
    "dfr = pd.concat([df, df.message.apply(explode_message)], axis=1)"
   ]
  },
  {
   "cell_type": "markdown",
   "metadata": {},
   "source": [
    "### Sources\n",
    "\n",
    "The following shows the counters of log messages in Qualibrate arranged by number of entries by source"
   ]
  },
  {
   "cell_type": "code",
   "execution_count": 18,
   "metadata": {
    "collapsed": false
   },
   "outputs": [
    {
     "data": {
      "text/plain": [
       "source\n",
       "org.jboss.as.webservices                         111\n",
       "org.jboss.as.server.deployment                   117\n",
       "org.wildfly.extension.undertow                   118\n",
       "gwtupload.server.UploadServlet                   122\n",
       "org.wildfly.extension.messaging-activemq         124\n",
       "org.jboss.as.txn                                 155\n",
       "org.apache.cxf.phase.PhaseInterceptorChain       158\n",
       "org.apache.cxf.ws.addressing.ContextUtils        165\n",
       "stderr                                           414\n",
       "qualibrate                                    240067\n",
       "Name: status, dtype: int64"
      ]
     },
     "execution_count": 18,
     "metadata": {},
     "output_type": "execute_result"
    }
   ],
   "source": [
    "sources = dfr.groupby([\"source\"])[\"status\"].count().sort_values().tail(10)\n",
    "sources\n",
    "# colorscale = [[0, '#333333'],[.5, '#eeeeee'],[1, '#ffffff']]\n",
    "# table = FF.create_table(sources.to_frame(), index=True, index_title='Sources', colorscale=colorscale)\n",
    "# py.iplot(table, filename='pandas_table')"
   ]
  },
  {
   "cell_type": "markdown",
   "metadata": {},
   "source": [
    "### Errors\n",
    "\n",
    "The following extract shows the top 10 sources for the errors logged in the serve"
   ]
  },
  {
   "cell_type": "code",
   "execution_count": 31,
   "metadata": {
    "collapsed": false
   },
   "outputs": [
    {
     "data": {
      "text/html": [
       "\n",
       "        <style  type=\"text/css\" >\n",
       "        \n",
       "            #T_6fee36e6_9971_11e6_91f8_7831c1d2599c th {\n",
       "            \n",
       "                font-size: 13px;\n",
       "            \n",
       "                text-align: left;\n",
       "            \n",
       "                font-family: Proxima Nova;\n",
       "            \n",
       "                border-bottom: 1px solid #ddd;\n",
       "            \n",
       "                border-top: 1px solid #fff;\n",
       "            \n",
       "                border-right: 1px solid #fff;\n",
       "            \n",
       "                border-left: 1px solid #fff;\n",
       "            \n",
       "            }\n",
       "        \n",
       "            #T_6fee36e6_9971_11e6_91f8_7831c1d2599c td {\n",
       "            \n",
       "                font-size: 13px;\n",
       "            \n",
       "                text-align: left;\n",
       "            \n",
       "                font-family: Proxima Nova;\n",
       "            \n",
       "                border-bottom: 1px solid #ddd;\n",
       "            \n",
       "                border-top: 1px solid #fff;\n",
       "            \n",
       "                border-right: 1px solid #fff;\n",
       "            \n",
       "                border-left: 1px solid #fff;\n",
       "            \n",
       "            }\n",
       "        \n",
       "            #T_6fee36e6_9971_11e6_91f8_7831c1d2599c table {\n",
       "            \n",
       "                font-size: 13px;\n",
       "            \n",
       "                text-align: left;\n",
       "            \n",
       "                font-family: Proxima Nova;\n",
       "            \n",
       "                border: 0;\n",
       "            \n",
       "                outline: none;\n",
       "            \n",
       "                border-collapse: collapse;\n",
       "            \n",
       "            }\n",
       "        \n",
       "        \n",
       "        </style>\n",
       "\n",
       "        <table id=\"T_6fee36e6_9971_11e6_91f8_7831c1d2599c\" width=500px>\n",
       "        \n",
       "\n",
       "        <thead>\n",
       "            \n",
       "            <tr>\n",
       "                \n",
       "                <th class=\"blank\">\n",
       "                \n",
       "                <th class=\"col_heading level0 col0\">source\n",
       "                \n",
       "            </tr>\n",
       "            \n",
       "            <tr>\n",
       "                \n",
       "                <th class=\"col_heading level2 col0\">source\n",
       "                \n",
       "                <th class=\"blank\">\n",
       "                \n",
       "            </tr>\n",
       "            \n",
       "        </thead>\n",
       "        <tbody>\n",
       "            \n",
       "            <tr>\n",
       "                \n",
       "                <th id=\"T_6fee36e6_9971_11e6_91f8_7831c1d2599c\" class=\"row_heading level0 row0\">\n",
       "                    org.jboss.as.jpa\n",
       "                \n",
       "                <td id=\"T_6fee36e6_9971_11e6_91f8_7831c1d2599crow0_col0\" class=\"data row0 col0\">\n",
       "                    3\n",
       "                \n",
       "            </tr>\n",
       "            \n",
       "            <tr>\n",
       "                \n",
       "                <th id=\"T_6fee36e6_9971_11e6_91f8_7831c1d2599c\" class=\"row_heading level0 row1\">\n",
       "                    org.atmosphere.cpr.AtmosphereFramework\n",
       "                \n",
       "                <td id=\"T_6fee36e6_9971_11e6_91f8_7831c1d2599crow1_col0\" class=\"data row1 col0\">\n",
       "                    6\n",
       "                \n",
       "            </tr>\n",
       "            \n",
       "            <tr>\n",
       "                \n",
       "                <th id=\"T_6fee36e6_9971_11e6_91f8_7831c1d2599c\" class=\"row_heading level0 row2\">\n",
       "                    org.jboss.msc.service.fail\n",
       "                \n",
       "                <td id=\"T_6fee36e6_9971_11e6_91f8_7831c1d2599crow2_col0\" class=\"data row2 col0\">\n",
       "                    6\n",
       "                \n",
       "            </tr>\n",
       "            \n",
       "            <tr>\n",
       "                \n",
       "                <th id=\"T_6fee36e6_9971_11e6_91f8_7831c1d2599c\" class=\"row_heading level0 row3\">\n",
       "                    io.undertow.servlet\n",
       "                \n",
       "                <td id=\"T_6fee36e6_9971_11e6_91f8_7831c1d2599crow3_col0\" class=\"data row3 col0\">\n",
       "                    23\n",
       "                \n",
       "            </tr>\n",
       "            \n",
       "            <tr>\n",
       "                \n",
       "                <th id=\"T_6fee36e6_9971_11e6_91f8_7831c1d2599c\" class=\"row_heading level0 row4\">\n",
       "                    org.xnio.listener\n",
       "                \n",
       "                <td id=\"T_6fee36e6_9971_11e6_91f8_7831c1d2599crow4_col0\" class=\"data row4 col0\">\n",
       "                    26\n",
       "                \n",
       "            </tr>\n",
       "            \n",
       "            <tr>\n",
       "                \n",
       "                <th id=\"T_6fee36e6_9971_11e6_91f8_7831c1d2599c\" class=\"row_heading level0 row5\">\n",
       "                    org.atmosphere.container.JSR356Endpoint\n",
       "                \n",
       "                <td id=\"T_6fee36e6_9971_11e6_91f8_7831c1d2599crow5_col0\" class=\"data row5 col0\">\n",
       "                    71\n",
       "                \n",
       "            </tr>\n",
       "            \n",
       "            <tr>\n",
       "                \n",
       "                <th id=\"T_6fee36e6_9971_11e6_91f8_7831c1d2599c\" class=\"row_heading level0 row6\">\n",
       "                    qualibrate\n",
       "                \n",
       "                <td id=\"T_6fee36e6_9971_11e6_91f8_7831c1d2599crow6_col0\" class=\"data row6 col0\">\n",
       "                    79\n",
       "                \n",
       "            </tr>\n",
       "            \n",
       "            <tr>\n",
       "                \n",
       "                <th id=\"T_6fee36e6_9971_11e6_91f8_7831c1d2599c\" class=\"row_heading level0 row7\">\n",
       "                    gwtupload.server.UploadServlet\n",
       "                \n",
       "                <td id=\"T_6fee36e6_9971_11e6_91f8_7831c1d2599crow7_col0\" class=\"data row7 col0\">\n",
       "                    114\n",
       "                \n",
       "            </tr>\n",
       "            \n",
       "            <tr>\n",
       "                \n",
       "                <th id=\"T_6fee36e6_9971_11e6_91f8_7831c1d2599c\" class=\"row_heading level0 row8\">\n",
       "                    org.jboss.as.txn\n",
       "                \n",
       "                <td id=\"T_6fee36e6_9971_11e6_91f8_7831c1d2599crow8_col0\" class=\"data row8 col0\">\n",
       "                    155\n",
       "                \n",
       "            </tr>\n",
       "            \n",
       "            <tr>\n",
       "                \n",
       "                <th id=\"T_6fee36e6_9971_11e6_91f8_7831c1d2599c\" class=\"row_heading level0 row9\">\n",
       "                    stderr\n",
       "                \n",
       "                <td id=\"T_6fee36e6_9971_11e6_91f8_7831c1d2599crow9_col0\" class=\"data row9 col0\">\n",
       "                    414\n",
       "                \n",
       "            </tr>\n",
       "            \n",
       "        </tbody>\n",
       "        </table>\n",
       "        "
      ],
      "text/plain": [
       "<pandas.core.style.Styler at 0x14566ee80>"
      ]
     },
     "execution_count": 31,
     "metadata": {},
     "output_type": "execute_result"
    }
   ],
   "source": [
    "errors = dfr.query('status == \"ERROR\"').groupby(['source'])[\"source\"].count().sort_values().tail(10)\n",
    "errors\n",
    "# table = FF.create_table(errors.to_frame(), index=True, index_title='Errors', colorscale=colorscale)\n",
    "# py.iplot(table, filename='pandas_table')\n",
    "styles = [\n",
    "    dict(selector=\"th\", props=[(\"font-size\", \"13px\"),\n",
    "                               (\"text-align\", \"left\"), \n",
    "                               (\"font-family\",\"Proxima Nova\"),\n",
    "                               (\"border-bottom\", \"1px solid #ddd\"),\n",
    "                               (\"border-top\", \"1px solid #fff\"),\n",
    "                               (\"border-right\", \"1px solid #fff\"),\n",
    "                               (\"border-left\", \"1px solid #fff\")\n",
    "                               ]),\n",
    "    dict(selector=\"td\", props=[(\"font-size\", \"13px\"),\n",
    "                               (\"text-align\", \"left\"), \n",
    "                               (\"font-family\",\"Proxima Nova\"),\n",
    "                               (\"border-bottom\", \"1px solid #ddd\"),\n",
    "                               (\"border-top\", \"1px solid #fff\"),\n",
    "                               (\"border-right\", \"1px solid #fff\"),\n",
    "                               (\"border-left\", \"1px solid #fff\")\n",
    "                              ]),\n",
    "    dict(selector=\"table\", props=[(\"font-size\", \"13px\"),\n",
    "                               (\"text-align\", \"left\"), \n",
    "                               (\"font-family\",\"Proxima Nova\"),\n",
    "                               (\"border\", \"0\"),\n",
    "                               (\"outline\", \"none\"),\n",
    "                               (\"border-collapse\", \"collapse\")\n",
    "                              ])\n",
    "]\n",
    "\n",
    "attributes = \"width=500px\"\n",
    "\n",
    "html = (errors.to_frame().style.set_table_styles(styles).set_table_attributes(attributes))\n",
    "html"
   ]
  },
  {
   "cell_type": "markdown",
   "metadata": {},
   "source": [
    "### IP Addresses\n",
    "\n",
    "The following list is the number of unique IP Addresses and their access counters.<br />\n",
    "Their distribution shows what the volume of requests and their proportion"
   ]
  },
  {
   "cell_type": "code",
   "execution_count": 12,
   "metadata": {
    "collapsed": false
   },
   "outputs": [
    {
     "data": {
      "text/plain": [
       "PercentageSplit(perc90=2593.0, max=41241)"
      ]
     },
     "execution_count": 12,
     "metadata": {},
     "output_type": "execute_result"
    }
   ],
   "source": [
    "PercentileSplit = collections.namedtuple('PercentageSplit', 'perc90 max')\n",
    "addr_counts = dfr.groupby(['ipaddress'])['source'].count().sort_values()\n",
    "PercentileSplit(addr_counts.quantile(.9), addr_counts.max())"
   ]
  },
  {
   "cell_type": "code",
   "execution_count": 13,
   "metadata": {
    "collapsed": false
   },
   "outputs": [
    {
     "data": {
      "text/plain": [
       "ipaddress\n",
       "223.186.159.124     1350\n",
       "223.237.196.129     1408\n",
       "201.172.171.249     1686\n",
       "106.51.29.153       1912\n",
       "193.172.169.206     2541\n",
       "82.201.93.170       2671\n",
       "108.171.129.160     3272\n",
       "86.120.194.141      4695\n",
       "80.57.187.93        6750\n",
       "125.16.167.60      41241\n",
       "Name: source, dtype: int64"
      ]
     },
     "execution_count": 13,
     "metadata": {},
     "output_type": "execute_result"
    }
   ],
   "source": [
    "addr_counts.tail(10)"
   ]
  },
  {
   "cell_type": "code",
   "execution_count": 168,
   "metadata": {
    "collapsed": false
   },
   "outputs": [
    {
     "data": {
      "text/plain": [
       "<matplotlib.axes._subplots.AxesSubplot at 0x130ebf320>"
      ]
     },
     "execution_count": 168,
     "metadata": {},
     "output_type": "execute_result"
    },
    {
     "data": {
      "image/png": "[encoded data removed]",
      "text/plain": [
       "<matplotlib.figure.Figure at 0x123c819b0>"
      ]
     },
     "metadata": {},
     "output_type": "display_data"
    }
   ],
   "source": [
    "sns.set(style=\"darkgrid\")\n",
    "#dfr.groupby([dfr.index.day, dfr.index.hour, dfr.index.minute])['status'].count()\n",
    "dfr.groupby(pd.TimeGrouper(freq='2D'))['status'].count().plot(kind=\"bar\", figsize=(16,4))"
   ]
  },
  {
   "cell_type": "code",
   "execution_count": 41,
   "metadata": {
    "collapsed": false
   },
   "outputs": [
    {
     "data": {
      "text/plain": [
       "status\n",
       "WARN            6\n",
       "WARNING         7\n",
       "ERROR          37\n",
       "INFO       162476\n",
       "Name: status, dtype: int64"
      ]
     },
     "execution_count": 41,
     "metadata": {},
     "output_type": "execute_result"
    }
   ],
   "source": [
    "dfr[dfr.index.day == 10].groupby([\"status\"])[\"status\"].count().sort_values().tail(10)"
   ]
  },
  {
   "cell_type": "code",
   "execution_count": 54,
   "metadata": {
    "collapsed": false
   },
   "outputs": [
    {
     "data": {
      "text/plain": [
       "ipaddress\n",
       "82.201.93.149        10\n",
       "80.57.187.93         88\n",
       "223.227.104.220     146\n",
       "223.237.189.222     218\n",
       "108.171.129.160     268\n",
       "193.172.169.206    1292\n",
       "201.172.171.249    1364\n",
       "125.16.167.60      1604\n",
       "Name: ipaddress, dtype: int64"
      ]
     },
     "execution_count": 54,
     "metadata": {},
     "output_type": "execute_result"
    }
   ],
   "source": [
    "dfr[dfr.index.day == 10].query('source == \"qualibrate\"').groupby(['ipaddress'])[\"ipaddress\"].count().sort_values()"
   ]
  },
  {
   "cell_type": "code",
   "execution_count": 169,
   "metadata": {
    "collapsed": false
   },
   "outputs": [
    {
     "data": {
      "text/plain": [
       "<matplotlib.axes._subplots.AxesSubplot at 0x1459fce10>"
      ]
     },
     "execution_count": 169,
     "metadata": {},
     "output_type": "execute_result"
    },
    {
     "data": {
      "image/png": "[encoded data removed]",
      "text/plain": [
       "<matplotlib.figure.Figure at 0x15e164fd0>"
      ]
     },
     "metadata": {},
     "output_type": "display_data"
    }
   ],
   "source": [
    "dfr[(dfr.index.day == 10) & (dfr.ipaddress.isnull())].groupby(pd.TimeGrouper(freq='30T'))[\"status\"].count().plot(kind=\"bar\", figsize=(16,4), title=\"Number of log entries in Oct 10\")"
   ]
  },
  {
   "cell_type": "code",
   "execution_count": 36,
   "metadata": {
    "collapsed": false
   },
   "outputs": [
    {
     "data": {
      "text/html": [
       "\n",
       "        <style  type=\"text/css\" >\n",
       "        \n",
       "            #T_0c2f78c8_9972_11e6_ba16_7831c1d2599c th {\n",
       "            \n",
       "                font-size: 13px;\n",
       "            \n",
       "                text-align: left;\n",
       "            \n",
       "                font-family: Proxima Nova;\n",
       "            \n",
       "                border-bottom: 1px solid #ddd;\n",
       "            \n",
       "                border-top: 1px solid #fff;\n",
       "            \n",
       "                border-right: 1px solid #fff;\n",
       "            \n",
       "                border-left: 1px solid #fff;\n",
       "            \n",
       "            }\n",
       "        \n",
       "            #T_0c2f78c8_9972_11e6_ba16_7831c1d2599c td {\n",
       "            \n",
       "                font-size: 13px;\n",
       "            \n",
       "                text-align: left;\n",
       "            \n",
       "                font-family: Proxima Nova;\n",
       "            \n",
       "                border-bottom: 1px solid #ddd;\n",
       "            \n",
       "                border-top: 1px solid #fff;\n",
       "            \n",
       "                border-right: 1px solid #fff;\n",
       "            \n",
       "                border-left: 1px solid #fff;\n",
       "            \n",
       "            }\n",
       "        \n",
       "            #T_0c2f78c8_9972_11e6_ba16_7831c1d2599c table {\n",
       "            \n",
       "                font-size: 13px;\n",
       "            \n",
       "                text-align: left;\n",
       "            \n",
       "                font-family: Proxima Nova;\n",
       "            \n",
       "                border: 0;\n",
       "            \n",
       "                outline: none;\n",
       "            \n",
       "                border-collapse: collapse;\n",
       "            \n",
       "            }\n",
       "        \n",
       "        \n",
       "        </style>\n",
       "\n",
       "        <table id=\"T_0c2f78c8_9972_11e6_ba16_7831c1d2599c\" width=500px>\n",
       "        \n",
       "\n",
       "        <thead>\n",
       "            \n",
       "            <tr>\n",
       "                \n",
       "                <th class=\"blank\">\n",
       "                \n",
       "                <th class=\"col_heading level0 col0\">description\n",
       "                \n",
       "            </tr>\n",
       "            \n",
       "            <tr>\n",
       "                \n",
       "                <th class=\"col_heading level2 col0\">description\n",
       "                \n",
       "                <th class=\"blank\">\n",
       "                \n",
       "            </tr>\n",
       "            \n",
       "        </thead>\n",
       "        <tbody>\n",
       "            \n",
       "            <tr>\n",
       "                \n",
       "                <th id=\"T_0c2f78c8_9972_11e6_ba16_7831c1d2599c\" class=\"row_heading level0 row0\">\n",
       "                    Client mamatha.manjunath sent a message!\n",
       "                \n",
       "                <td id=\"T_0c2f78c8_9972_11e6_ba16_7831c1d2599crow0_col0\" class=\"data row0 col0\">\n",
       "                    2\n",
       "                \n",
       "            </tr>\n",
       "            \n",
       "            <tr>\n",
       "                \n",
       "                <th id=\"T_0c2f78c8_9972_11e6_ba16_7831c1d2599c\" class=\"row_heading level0 row1\">\n",
       "                    Server holding 4 web clients.\n",
       "                \n",
       "                <td id=\"T_0c2f78c8_9972_11e6_ba16_7831c1d2599crow1_col0\" class=\"data row1 col0\">\n",
       "                    95\n",
       "                \n",
       "            </tr>\n",
       "            \n",
       "            <tr>\n",
       "                \n",
       "                <th id=\"T_0c2f78c8_9972_11e6_ba16_7831c1d2599c\" class=\"row_heading level0 row2\">\n",
       "                    Server holding 6 web clients.\n",
       "                \n",
       "                <td id=\"T_0c2f78c8_9972_11e6_ba16_7831c1d2599crow2_col0\" class=\"data row2 col0\">\n",
       "                    9507\n",
       "                \n",
       "            </tr>\n",
       "            \n",
       "            <tr>\n",
       "                \n",
       "                <th id=\"T_0c2f78c8_9972_11e6_ba16_7831c1d2599c\" class=\"row_heading level0 row3\">\n",
       "                    Server holding 5 web clients.\n",
       "                \n",
       "                <td id=\"T_0c2f78c8_9972_11e6_ba16_7831c1d2599crow3_col0\" class=\"data row3 col0\">\n",
       "                    34866\n",
       "                \n",
       "            </tr>\n",
       "            \n",
       "            <tr>\n",
       "                \n",
       "                <th id=\"T_0c2f78c8_9972_11e6_ba16_7831c1d2599c\" class=\"row_heading level0 row4\">\n",
       "                    Web client alan.jimenez just connected\n",
       "                \n",
       "                <td id=\"T_0c2f78c8_9972_11e6_ba16_7831c1d2599crow4_col0\" class=\"data row4 col0\">\n",
       "                    44466\n",
       "                \n",
       "            </tr>\n",
       "            \n",
       "        </tbody>\n",
       "        </table>\n",
       "        "
      ],
      "text/plain": [
       "<pandas.core.style.Styler at 0x145aa26a0>"
      ]
     },
     "execution_count": 36,
     "metadata": {},
     "output_type": "execute_result"
    }
   ],
   "source": [
    "desc = dfr[(dfr.index.hour == 11) & (dfr.index.day == 10) & (dfr.ipaddress.isnull())]\\\n",
    ".groupby(['description'])['description']\\\n",
    ".count()\\\n",
    ".sort_values()\\\n",
    ".tail(5)\n",
    "(desc.to_frame().style.set_table_styles(styles).set_table_attributes(attributes))"
   ]
  },
  {
   "cell_type": "code",
   "execution_count": 2,
   "metadata": {
    "collapsed": false
   },
   "outputs": [
    {
     "name": "stdout",
     "output_type": "stream",
     "text": [
      "External Loaded Function\n"
     ]
    }
   ],
   "source": [
    "%run test.py"
   ]
  },
  {
   "cell_type": "code",
   "execution_count": null,
   "metadata": {
    "collapsed": true
   },
   "outputs": [],
   "source": []
  }
 ],
 "metadata": {
  "kernelspec": {
   "display_name": "Python 3",
   "language": "python",
   "name": "python3"
  },
  "language_info": {
   "codemirror_mode": {
    "name": "ipython",
    "version": 3
   },
   "file_extension": ".py",
   "mimetype": "text/x-python",
   "name": "python",
   "nbconvert_exporter": "python",
   "pygments_lexer": "ipython3",
   "version": "3.5.1"
  },
  "widgets": {
   "state": {
    "0859214dd8e1403ab33bde0af8c1a95a": {
     "views": [
      {
       "cell_index": 6
      }
     ]
    },
    "d83589b10e8b41de83b59440add26cb4": {
     "views": [
      {
       "cell_index": 6
      }
     ]
    }
   },
   "version": "1.2.0"
  }
 },
 "nbformat": 4,
 "nbformat_minor": 0
}
